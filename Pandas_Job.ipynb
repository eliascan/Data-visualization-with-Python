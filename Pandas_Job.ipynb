{
 "cells": [
  {
   "cell_type": "code",
   "execution_count": 1,
   "metadata": {},
   "outputs": [],
   "source": [
    "import numpy as np"
   ]
  },
  {
   "cell_type": "code",
   "execution_count": 2,
   "metadata": {},
   "outputs": [
    {
     "name": "stderr",
     "output_type": "stream",
     "text": [
      "/usr/lib/python3.6/importlib/_bootstrap.py:219: RuntimeWarning: numpy.dtype size changed, may indicate binary incompatibility. Expected 96, got 88\n",
      "  return f(*args, **kwds)\n"
     ]
    }
   ],
   "source": [
    "import pandas as pd"
   ]
  },
  {
   "cell_type": "code",
   "execution_count": 3,
   "metadata": {},
   "outputs": [],
   "source": [
    "LANDCOVER_VALUE_TO_TYPE = {\n",
    "    0: 'water',\n",
    "    1: 'evergreen needleleaf forest',\n",
    "    2: 'evergreen broadleaf forest',\n",
    "    3: 'deciduous needleleaf forest',\n",
    "    4: 'deciduous broadleaf forest',\n",
    "    5: 'mixed forest',\n",
    "    6: 'closed shrublands',\n",
    "    7: 'open shrublands',\n",
    "    8: 'woody savannas',\n",
    "    9: 'savannas',\n",
    "    10: 'grasslands',\n",
    "    11: 'permanent wetlands',\n",
    "    12: 'croplands',\n",
    "    13: 'urban and built-up',\n",
    "    14: 'cropland/natural vegetation mosaic',\n",
    "    15: 'snow and ice',\n",
    "    16: 'barren or sparsely vegetated',\n",
    "    244: 'unclassified',\n",
    "    255: 'fill Value'\n",
    "}"
   ]
  },
  {
   "cell_type": "code",
   "execution_count": 4,
   "metadata": {},
   "outputs": [],
   "source": [
    "LANDCOVER = np.array([\n",
    "    [2, 0, 0],\n",
    "    [3, 0, 0],\n",
    "    [4, 0, 0],\n",
    "    [5, 0, 0],\n",
    "    [4, 1, 0],\n",
    "    [4, 5, 0],\n",
    "    [5, 5, 0],\n",
    "    [0, 0, 4],\n",
    "    [0, 1, 4],\n",
    "    [5, 1, 4],\n",
    "    [3, 2, 4],\n",
    "    [4, 2, 4],\n",
    "    [5, 2, 4],\n",
    "    [3, 3, 4],\n",
    "    [2, 4, 6],\n",
    "    [3, 5, 6],\n",
    "    [3, 4, 7],\n",
    "    [2, 5, 7],\n",
    "    [0, 2, 8],\n",
    "    [2, 3, 8],\n",
    "    [0, 4, 8],\n",
    "    [0, 3, 9],\n",
    "    [1, 3, 9],\n",
    "    [1, 4, 9],\n",
    "    [0, 5, 9],\n",
    "    [1, 5, 9],\n",
    "    [1, 0, 10],\n",
    "    [1, 2, 10],\n",
    "    [4, 3, 10],\n",
    "    [4, 4, 10],\n",
    "    [5, 4, 10],\n",
    "    [3, 1, 11],\n",
    "    [1, 1, 12],\n",
    "    [2, 2, 12],\n",
    "    [2, 1, 13],\n",
    "    [5, 3, 13]\n",
    "])"
   ]
  },
  {
   "cell_type": "code",
   "execution_count": 5,
   "metadata": {},
   "outputs": [],
   "source": [
    "CARBON = np.array([\n",
    "    [0, 0, 207],\n",
    "    [1, 0, 26],\n",
    "    [2, 0, 0],\n",
    "    [3, 0, 0],\n",
    "    [4, 0, 0],\n",
    "    [0, 1, 135],\n",
    "    [1, 1, 96],\n",
    "    [2, 1, 156],\n",
    "    [3, 1, 47],\n",
    "    [4, 1, 0],\n",
    "    [0, 2, 196],\n",
    "    [1, 2, 70],\n",
    "    [2, 2, 106],\n",
    "    [3, 2, 126],\n",
    "    [4, 2, 48],\n",
    "    [0, 3, 254],\n",
    "    [1, 3, 225],\n",
    "    [2, 3, 54],\n",
    "    [3, 3, 125],\n",
    "    [4, 3, 230],\n",
    "    [0, 4, 140],\n",
    "    [1, 4, 175],\n",
    "    [2, 4, 48],\n",
    "    [3, 4, 215],\n",
    "    [4, 4, 46]\n",
    "])"
   ]
  },
  {
   "cell_type": "code",
   "execution_count": 6,
   "metadata": {},
   "outputs": [],
   "source": [
    "DFland = pd.DataFrame(LANDCOVER, columns = ['X', 'Y', 'Land_Type'])"
   ]
  },
  {
   "cell_type": "code",
   "execution_count": 7,
   "metadata": {},
   "outputs": [],
   "source": [
    "DFcarb = pd.DataFrame(CARBON, columns = ['X', 'Y', 'Carbon_Content'])"
   ]
  },
  {
   "cell_type": "code",
   "execution_count": 8,
   "metadata": {},
   "outputs": [],
   "source": [
    "DFland['Land_Type'].replace(LANDCOVER_VALUE_TO_TYPE, inplace=True)"
   ]
  },
  {
   "cell_type": "code",
   "execution_count": 9,
   "metadata": {},
   "outputs": [],
   "source": [
    "LanCar = pd.merge(DFcarb, DFland, on=['X', 'Y'])"
   ]
  },
  {
   "cell_type": "code",
   "execution_count": 25,
   "metadata": {},
   "outputs": [
    {
     "data": {
      "text/html": [
       "<div>\n",
       "<style scoped>\n",
       "    .dataframe tbody tr th:only-of-type {\n",
       "        vertical-align: middle;\n",
       "    }\n",
       "\n",
       "    .dataframe tbody tr th {\n",
       "        vertical-align: top;\n",
       "    }\n",
       "\n",
       "    .dataframe thead th {\n",
       "        text-align: right;\n",
       "    }\n",
       "</style>\n",
       "<table border=\"1\" class=\"dataframe\">\n",
       "  <thead>\n",
       "    <tr style=\"text-align: right;\">\n",
       "      <th></th>\n",
       "      <th>X</th>\n",
       "      <th>Y</th>\n",
       "      <th>Carbon_Content</th>\n",
       "      <th>Land_Type</th>\n",
       "    </tr>\n",
       "  </thead>\n",
       "  <tbody>\n",
       "    <tr>\n",
       "      <th>0</th>\n",
       "      <td>0</td>\n",
       "      <td>0</td>\n",
       "      <td>207</td>\n",
       "      <td>deciduous broadleaf forest</td>\n",
       "    </tr>\n",
       "    <tr>\n",
       "      <th>1</th>\n",
       "      <td>1</td>\n",
       "      <td>0</td>\n",
       "      <td>26</td>\n",
       "      <td>grasslands</td>\n",
       "    </tr>\n",
       "    <tr>\n",
       "      <th>2</th>\n",
       "      <td>2</td>\n",
       "      <td>0</td>\n",
       "      <td>0</td>\n",
       "      <td>water</td>\n",
       "    </tr>\n",
       "    <tr>\n",
       "      <th>3</th>\n",
       "      <td>3</td>\n",
       "      <td>0</td>\n",
       "      <td>0</td>\n",
       "      <td>water</td>\n",
       "    </tr>\n",
       "    <tr>\n",
       "      <th>4</th>\n",
       "      <td>4</td>\n",
       "      <td>0</td>\n",
       "      <td>0</td>\n",
       "      <td>water</td>\n",
       "    </tr>\n",
       "    <tr>\n",
       "      <th>5</th>\n",
       "      <td>0</td>\n",
       "      <td>1</td>\n",
       "      <td>135</td>\n",
       "      <td>deciduous broadleaf forest</td>\n",
       "    </tr>\n",
       "    <tr>\n",
       "      <th>6</th>\n",
       "      <td>1</td>\n",
       "      <td>1</td>\n",
       "      <td>96</td>\n",
       "      <td>croplands</td>\n",
       "    </tr>\n",
       "    <tr>\n",
       "      <th>7</th>\n",
       "      <td>2</td>\n",
       "      <td>1</td>\n",
       "      <td>156</td>\n",
       "      <td>urban and built-up</td>\n",
       "    </tr>\n",
       "    <tr>\n",
       "      <th>8</th>\n",
       "      <td>3</td>\n",
       "      <td>1</td>\n",
       "      <td>47</td>\n",
       "      <td>permanent wetlands</td>\n",
       "    </tr>\n",
       "    <tr>\n",
       "      <th>9</th>\n",
       "      <td>4</td>\n",
       "      <td>1</td>\n",
       "      <td>0</td>\n",
       "      <td>water</td>\n",
       "    </tr>\n",
       "    <tr>\n",
       "      <th>10</th>\n",
       "      <td>0</td>\n",
       "      <td>2</td>\n",
       "      <td>196</td>\n",
       "      <td>woody savannas</td>\n",
       "    </tr>\n",
       "    <tr>\n",
       "      <th>11</th>\n",
       "      <td>1</td>\n",
       "      <td>2</td>\n",
       "      <td>70</td>\n",
       "      <td>grasslands</td>\n",
       "    </tr>\n",
       "    <tr>\n",
       "      <th>12</th>\n",
       "      <td>2</td>\n",
       "      <td>2</td>\n",
       "      <td>106</td>\n",
       "      <td>croplands</td>\n",
       "    </tr>\n",
       "    <tr>\n",
       "      <th>13</th>\n",
       "      <td>3</td>\n",
       "      <td>2</td>\n",
       "      <td>126</td>\n",
       "      <td>deciduous broadleaf forest</td>\n",
       "    </tr>\n",
       "    <tr>\n",
       "      <th>14</th>\n",
       "      <td>4</td>\n",
       "      <td>2</td>\n",
       "      <td>48</td>\n",
       "      <td>deciduous broadleaf forest</td>\n",
       "    </tr>\n",
       "    <tr>\n",
       "      <th>15</th>\n",
       "      <td>0</td>\n",
       "      <td>3</td>\n",
       "      <td>254</td>\n",
       "      <td>savannas</td>\n",
       "    </tr>\n",
       "    <tr>\n",
       "      <th>16</th>\n",
       "      <td>1</td>\n",
       "      <td>3</td>\n",
       "      <td>225</td>\n",
       "      <td>savannas</td>\n",
       "    </tr>\n",
       "    <tr>\n",
       "      <th>17</th>\n",
       "      <td>2</td>\n",
       "      <td>3</td>\n",
       "      <td>54</td>\n",
       "      <td>woody savannas</td>\n",
       "    </tr>\n",
       "    <tr>\n",
       "      <th>18</th>\n",
       "      <td>3</td>\n",
       "      <td>3</td>\n",
       "      <td>125</td>\n",
       "      <td>deciduous broadleaf forest</td>\n",
       "    </tr>\n",
       "    <tr>\n",
       "      <th>19</th>\n",
       "      <td>4</td>\n",
       "      <td>3</td>\n",
       "      <td>230</td>\n",
       "      <td>grasslands</td>\n",
       "    </tr>\n",
       "    <tr>\n",
       "      <th>20</th>\n",
       "      <td>0</td>\n",
       "      <td>4</td>\n",
       "      <td>140</td>\n",
       "      <td>woody savannas</td>\n",
       "    </tr>\n",
       "    <tr>\n",
       "      <th>21</th>\n",
       "      <td>1</td>\n",
       "      <td>4</td>\n",
       "      <td>175</td>\n",
       "      <td>savannas</td>\n",
       "    </tr>\n",
       "    <tr>\n",
       "      <th>22</th>\n",
       "      <td>2</td>\n",
       "      <td>4</td>\n",
       "      <td>48</td>\n",
       "      <td>closed shrublands</td>\n",
       "    </tr>\n",
       "    <tr>\n",
       "      <th>23</th>\n",
       "      <td>3</td>\n",
       "      <td>4</td>\n",
       "      <td>215</td>\n",
       "      <td>open shrublands</td>\n",
       "    </tr>\n",
       "    <tr>\n",
       "      <th>24</th>\n",
       "      <td>4</td>\n",
       "      <td>4</td>\n",
       "      <td>46</td>\n",
       "      <td>grasslands</td>\n",
       "    </tr>\n",
       "  </tbody>\n",
       "</table>\n",
       "</div>"
      ],
      "text/plain": [
       "    X  Y  Carbon_Content                   Land_Type\n",
       "0   0  0             207  deciduous broadleaf forest\n",
       "1   1  0              26                  grasslands\n",
       "2   2  0               0                       water\n",
       "3   3  0               0                       water\n",
       "4   4  0               0                       water\n",
       "5   0  1             135  deciduous broadleaf forest\n",
       "6   1  1              96                   croplands\n",
       "7   2  1             156          urban and built-up\n",
       "8   3  1              47          permanent wetlands\n",
       "9   4  1               0                       water\n",
       "10  0  2             196              woody savannas\n",
       "11  1  2              70                  grasslands\n",
       "12  2  2             106                   croplands\n",
       "13  3  2             126  deciduous broadleaf forest\n",
       "14  4  2              48  deciduous broadleaf forest\n",
       "15  0  3             254                    savannas\n",
       "16  1  3             225                    savannas\n",
       "17  2  3              54              woody savannas\n",
       "18  3  3             125  deciduous broadleaf forest\n",
       "19  4  3             230                  grasslands\n",
       "20  0  4             140              woody savannas\n",
       "21  1  4             175                    savannas\n",
       "22  2  4              48           closed shrublands\n",
       "23  3  4             215             open shrublands\n",
       "24  4  4              46                  grasslands"
      ]
     },
     "execution_count": 25,
     "metadata": {},
     "output_type": "execute_result"
    }
   ],
   "source": [
    "LanCar"
   ]
  },
  {
   "cell_type": "code",
   "execution_count": 10,
   "metadata": {},
   "outputs": [],
   "source": [
    "MLanCar = LanCar.groupby('Land_Type').Carbon_Content.mean()"
   ]
  },
  {
   "cell_type": "code",
   "execution_count": 11,
   "metadata": {},
   "outputs": [],
   "source": [
    "Jrd = LanCar.groupby('Land_Type').Carbon_Content.agg(['mean', 'std'])"
   ]
  },
  {
   "cell_type": "code",
   "execution_count": 39,
   "metadata": {},
   "outputs": [],
   "source": [
    "fmt = Jrd.loc['savannas']"
   ]
  },
  {
   "cell_type": "code",
   "execution_count": 44,
   "metadata": {},
   "outputs": [
    {
     "name": "stdout",
     "output_type": "stream",
     "text": [
      "        savannas\n",
      "mean  218.000000\n",
      "std    39.962482\n"
     ]
    }
   ],
   "source": [
    "print(fmt.to_frame().to_string())"
   ]
  },
  {
   "cell_type": "code",
   "execution_count": 37,
   "metadata": {},
   "outputs": [
    {
     "data": {
      "text/plain": [
       "93.0"
      ]
     },
     "execution_count": 37,
     "metadata": {},
     "output_type": "execute_result"
    }
   ],
   "source": [
    "ave = MLanCar.loc['grasslands']"
   ]
  },
  {
   "cell_type": "code",
   "execution_count": 12,
   "metadata": {},
   "outputs": [],
   "source": [
    "%matplotlib inline"
   ]
  },
  {
   "cell_type": "code",
   "execution_count": 13,
   "metadata": {},
   "outputs": [
    {
     "data": {
      "text/plain": [
       "<matplotlib.axes._subplots.AxesSubplot at 0x7f7d2d1a14e0>"
      ]
     },
     "execution_count": 13,
     "metadata": {},
     "output_type": "execute_result"
    },
    {
     "data": {
      "image/png": "[encoded data removed]",
      "text/plain": [
       "<matplotlib.figure.Figure at 0x7f7d2d174c18>"
      ]
     },
     "metadata": {},
     "output_type": "display_data"
    }
   ],
   "source": [
    "MLanCar.plot(kind='bar')"
   ]
  },
  {
   "cell_type": "code",
   "execution_count": 14,
   "metadata": {},
   "outputs": [
    {
     "data": {
      "text/plain": [
       "<matplotlib.axes._subplots.AxesSubplot at 0x7f7d2d174748>"
      ]
     },
     "execution_count": 14,
     "metadata": {},
     "output_type": "execute_result"
    },
    {
     "data": {
      "image/png": "[encoded data removed]",
      "text/plain": [
       "<matplotlib.figure.Figure at 0x7f7d2b15b518>"
      ]
     },
     "metadata": {},
     "output_type": "display_data"
    }
   ],
   "source": [
    "Jrd.plot()"
   ]
  },
  {
   "cell_type": "code",
   "execution_count": 36,
   "metadata": {},
   "outputs": [
    {
     "data": {
      "text/plain": [
       "False"
      ]
     },
     "execution_count": 36,
     "metadata": {},
     "output_type": "execute_result"
    }
   ],
   "source": [
    "'culo' in LanCar.Land_Type.values"
   ]
  },
  {
   "cell_type": "code",
   "execution_count": null,
   "metadata": {},
   "outputs": [],
   "source": []
  }
 ],
 "metadata": {
  "kernelspec": {
   "display_name": "Python 3",
   "language": "python",
   "name": "python3"
  },
  "language_info": {
   "codemirror_mode": {
    "name": "ipython",
    "version": 3
   },
   "file_extension": ".py",
   "mimetype": "text/x-python",
   "name": "python",
   "nbconvert_exporter": "python",
   "pygments_lexer": "ipython3",
   "version": "3.6.5"
  }
 },
 "nbformat": 4,
 "nbformat_minor": 2
}
